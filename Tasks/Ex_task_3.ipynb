{
  "cells": [
    {
      "cell_type": "markdown",
      "metadata": {
        "id": "view-in-github",
        "colab_type": "text"
      },
      "source": [
        "<a href=\"https://colab.research.google.com/github/urcuteasfck/UNIVERCITY/blob/main/Tasks/Ex_task_3.ipynb\" target=\"_parent\"><img src=\"https://colab.research.google.com/assets/colab-badge.svg\" alt=\"Open In Colab\"/></a>"
      ]
    },
    {
      "cell_type": "markdown",
      "id": "bb332bf9",
      "metadata": {
        "id": "bb332bf9"
      },
      "source": [
        "# **Дополнительное задание №3. Обработка исключений и работа с текстовыми файлами**"
      ]
    },
    {
      "cell_type": "markdown",
      "id": "aa6808db",
      "metadata": {
        "id": "aa6808db"
      },
      "source": [
        "**БАЗА:**\n",
        "\n",
        "- **Обработка исключений** позволяет перехватывать и обрабатывать ошибки, возникающие при выполнении программы, предотвращая её аварийное завершение.\n",
        "- **Работа с файлами** - важный навык для чтения, записи и обработки текстовой информации в Python.\n",
        "\n",
        "---"
      ]
    },
    {
      "cell_type": "markdown",
      "id": "2478deca",
      "metadata": {
        "id": "2478deca"
      },
      "source": [
        "## **I. Обработка исключений**"
      ]
    },
    {
      "cell_type": "markdown",
      "id": "0ab0b851",
      "metadata": {
        "id": "0ab0b851"
      },
      "source": [
        "### **Пункт №1. Обработка некорректного индекса (IndexError)**"
      ]
    },
    {
      "cell_type": "markdown",
      "id": "46e69e1f",
      "metadata": {
        "id": "46e69e1f"
      },
      "source": [
        "Создайте список из нескольких элементов (например, [10, 20, 30]). Попросите пользователя ввести индекс элемента, который нужно вывести. Если пользователь введёт индекс, выходящий за границы списка, перехватите IndexError и сообщите об этом.\n",
        "\n",
        "**ОБЯЗАТЕЛЬНО:**\n",
        "- Создайте список из минимум 5 элементов\n",
        "- Покажите содержимое списка перед работой\n",
        "- Протестируйте минимум 4 случая (корректный индекс, отрицательный, слишком большой, нечисловое значение)"
      ]
    },
    {
      "cell_type": "code",
      "execution_count": null,
      "id": "724c5954",
      "metadata": {
        "id": "724c5954",
        "colab": {
          "base_uri": "https://localhost:8080/"
        },
        "outputId": "40b3f7b9-3b27-4ffc-a6f9-4d9810911780"
      },
      "outputs": [
        {
          "output_type": "stream",
          "name": "stdout",
          "text": [
            "Список: [10, 20, 30, 40, 50]\n",
            "\n",
            "2\n",
            "Элемент: 30\n",
            "\n",
            "-1\n",
            "Элемент: 50\n",
            "\n",
            "10\n",
            "Ошибка: такого индекса нет!\n",
            "\n",
            "abc\n",
            "Ошибка: это не число!\n",
            "\n"
          ]
        }
      ],
      "source": [
        "my_list = [10, 20, 30, 40, 50]\n",
        "print(f\"Список: {my_list}\")\n",
        "print()\n",
        "\n",
        "test_inputs = [\"2\", \"-1\", \"10\", \"abc\"]\n",
        "\n",
        "for test in test_inputs:\n",
        "    print(test)\n",
        "\n",
        "    try:\n",
        "        index = int(test)\n",
        "        element = my_list[index]\n",
        "        print(f\"Элемент: {element}\")\n",
        "    except ValueError:\n",
        "        print(\"Ошибка: это не число!\")\n",
        "    except IndexError:\n",
        "        print(\"Ошибка: такого индекса нет!\")\n",
        "\n",
        "    print()"
      ]
    },
    {
      "cell_type": "markdown",
      "id": "7ac84eec",
      "metadata": {
        "id": "7ac84eec"
      },
      "source": [
        "---"
      ]
    },
    {
      "cell_type": "markdown",
      "id": "f8bfb6e1",
      "metadata": {
        "id": "f8bfb6e1"
      },
      "source": [
        "### **Пункт №2. Обработка исключений в цикле**"
      ]
    },
    {
      "cell_type": "markdown",
      "id": "63c3b706",
      "metadata": {
        "id": "63c3b706"
      },
      "source": [
        "Напишите программу, которая запрашивает у пользователя числа и добавляет их в список.\n",
        "- Если пользователь вводит некорректные данные, программа должна выводить сообщение об ошибке и продолжать работу.\n",
        "- Для выхода из программы пользователь должен ввести \"стоп\".\n",
        "\n",
        "**ОБЯЗАТЕЛЬНО:**\n",
        "- Покажите процесс ввода минимум 7 значений (включая ошибочные)\n",
        "- Выведите финальный список и статистику (сколько чисел введено успешно, сколько ошибок)"
      ]
    },
    {
      "cell_type": "markdown",
      "source": [
        "\n",
        "\n",
        "```\n",
        "# Пример:\n",
        "# Введите число: 10\n",
        "# Введите число: текст (Ошибка: это не число)\n",
        "# Введите число: стоп\n",
        "# Итоговый список: [10]\n",
        "```\n",
        "\n"
      ],
      "metadata": {
        "id": "aiWaEPOuoHDS"
      },
      "id": "aiWaEPOuoHDS"
    },
    {
      "cell_type": "code",
      "execution_count": null,
      "id": "31448e09",
      "metadata": {
        "id": "31448e09",
        "colab": {
          "base_uri": "https://localhost:8080/"
        },
        "outputId": "7c73138e-f484-47b3-ce2a-8844b1572efe"
      },
      "outputs": [
        {
          "output_type": "stream",
          "name": "stdout",
          "text": [
            "Вводите числа. Для выхода введите 'стоп'\n",
            "Введите число: 1\n",
            "Число 1.0 добавлено\n",
            "Введите число: 2.5\n",
            "Число 2.5 добавлено\n",
            "Введите число: dbdbbd\n",
            "Ошибка: это не число!\n"
          ]
        }
      ],
      "source": [
        "numbers_list = []\n",
        "success_count = 0\n",
        "error_count = 0\n",
        "\n",
        "print(\"Вводите числа. Для выхода введите 'стоп'\")\n",
        "\n",
        "while True:\n",
        "    user_input = input(\"Введите число: \")\n",
        "    5\n",
        "    if user_input.lower == \"стоп\":\n",
        "        break\n",
        "\n",
        "    try:\n",
        "        number = float(user_input)\n",
        "        numbers_list.append(number)\n",
        "        success_count += 1\n",
        "        print(f\"Число {number} добавлено\")\n",
        "    except ValueError:\n",
        "        print(\"Ошибка: это не число!\")\n",
        "        error_count += 1\n",
        "\n",
        "print(f\"\\nФинальный список: {numbers_list}\")\n",
        "print(f\"Успешно введено чисел: success_count\")\n",
        "print(\"Количество ошибок:\", error_count)\n",
        "\n",
        "\n"
      ]
    },
    {
      "cell_type": "markdown",
      "metadata": {
        "id": "Yv-FNYTEp0vV"
      },
      "source": [
        "---"
      ],
      "id": "Yv-FNYTEp0vV"
    },
    {
      "cell_type": "markdown",
      "id": "5971f85d",
      "metadata": {
        "id": "5971f85d"
      },
      "source": [
        "### **Пункт №3**"
      ]
    },
    {
      "cell_type": "markdown",
      "id": "b1457074",
      "metadata": {
        "id": "b1457074"
      },
      "source": [
        "Создайте функцию `get_list_element(lst, index)`, которая безопасно извлекает элемент списка по индексу с использованием блоков `try`, `except`, `else` и `finally`.\n",
        "\n",
        "Функция должна:\n",
        "- Обрабатывать выход за пределы списка\n",
        "- Обрабатывать некорректный тип индекса\n",
        "- Выводить сообщение о попытке доступа в блоке `finally`\n",
        "\n",
        "**ОБЯЗАТЕЛЬНО:**\n",
        "- Выведите результаты для минимум 4 различных случаев (успешный доступ, выход за границы, отрицательный индекс, нечисловой индекс)\n",
        "- Покажите, что блок `finally` выполняется всегда\n",
        "\n",
        "```python\n",
        "# Пример использования:\n",
        "my_list = [1, 2, 3, 4, 5]\n",
        "get_list_element(my_list, 2)   # Вывод: \"Элемент: 3\", \"Попытка доступа завершена\"\n",
        "get_list_element(my_list, 10)  # Вывод: \"Индекс вне диапазона\", \"Попытка доступа завершена\"\n",
        "```"
      ]
    },
    {
      "cell_type": "code",
      "execution_count": null,
      "id": "1c067cf3",
      "metadata": {
        "id": "1c067cf3"
      },
      "outputs": [],
      "source": [
        "def get_list_element(lst, index):\n",
        "    try:\n",
        "        element = lst[index]\n",
        "    except IndexError:\n",
        "        print(\"Индекс вне диапазона\")\n",
        "    except TypeError:\n",
        "        print(\"Некорректный тип индекса\")\n",
        "    else:\n",
        "        print(f\"Элемент: {element}\")\n",
        "    finally:\n",
        "        print(\"Попытка доступа завершена\")\n",
        "\n",
        "\n",
        "my_list = [1, 2, 3, 4, 5]\n",
        "\n",
        "\n",
        "print(\"=== Успешный доступ ===\")\n",
        "get_list_element(my_list, 2)\n",
        "\n",
        "print(\"\\n=== Выход за границы ===\")\n",
        "get_list_element(my_list, 10)\n",
        "\n",
        "print(\"\\n=== Отрицательный индекс ===\")\n",
        "get_list_element(my_list, -1)\n",
        "\n",
        "print(\"\\n=== Нечисловой индекс ===\")\n",
        "get_list_element(my_list, \"abc\")"
      ]
    },
    {
      "cell_type": "markdown",
      "id": "b5bb39c7",
      "metadata": {
        "id": "b5bb39c7"
      },
      "source": [
        "---"
      ]
    },
    {
      "cell_type": "markdown",
      "id": "b0972d59",
      "metadata": {
        "id": "b0972d59"
      },
      "source": [
        "## **II. Работа с текстовыми файлами**"
      ]
    },
    {
      "cell_type": "markdown",
      "id": "35729435",
      "metadata": {
        "id": "35729435"
      },
      "source": [
        "### **Пункт №1. Запись в файл**"
      ]
    },
    {
      "cell_type": "markdown",
      "id": "3121365f",
      "metadata": {
        "id": "3121365f"
      },
      "source": [
        "Напишите программу, которая запрашивает у пользователя строку и записывает её в файл output.txt в режиме дозаписи.\n",
        "\n",
        "**ОБЯЗАТЕЛЬНО:**\n",
        "- Запросите у пользователя минимум 3 строки\n",
        "- Покажите содержимое файла после записи"
      ]
    },
    {
      "cell_type": "code",
      "execution_count": null,
      "id": "cbce6c5f",
      "metadata": {
        "id": "cbce6c5f",
        "colab": {
          "base_uri": "https://localhost:8080/"
        },
        "outputId": "6b18ee23-81ba-4deb-c452-b71254a84735"
      },
      "outputs": [
        {
          "output_type": "stream",
          "name": "stdout",
          "text": [
            "Введите строку 1: farafarafa\n",
            "Введите строку 2: yyyyyy\n",
            "Введите строку 3: jjjjjj\n",
            "farafarafa\n",
            "yyyyyy\n",
            "jjjjjj\n",
            "\n"
          ]
        }
      ],
      "source": [
        "import os\n",
        "file = open(\"output.txt\", \"a\" ,encoding=\"utf-8\")\n",
        "for i in range(3):\n",
        "    t = input(f\"Введите строку {i+1}: \")\n",
        "    file.write(t + \"\\n\")\n",
        "file.close()\n",
        "file = open(\"output.txt\", \"r\",encoding=\"utf-8\")\n",
        "c = file.read()\n",
        "print(c)\n",
        "file.close()"
      ]
    },
    {
      "cell_type": "markdown",
      "id": "361b3d2b",
      "metadata": {
        "id": "361b3d2b"
      },
      "source": [
        "---"
      ]
    },
    {
      "cell_type": "markdown",
      "id": "cce864b4",
      "metadata": {
        "id": "cce864b4"
      },
      "source": [
        "### **Пункт №2. Чтение из файла**"
      ]
    },
    {
      "cell_type": "markdown",
      "id": "4fc83b82",
      "metadata": {
        "id": "4fc83b82"
      },
      "source": [
        "Напишите программу, которая открывает файл output.txt и выводит его содержимое на экран.\n",
        "\n",
        "**ОБЯЗАТЕЛЬНО:**\n",
        "- Создайте файл с минимум 5 строками текста\n",
        "- Покажите содержимое файла целиком\n",
        "- Обработайте случай отсутствующего файла"
      ]
    },
    {
      "cell_type": "code",
      "execution_count": null,
      "id": "df27a986",
      "metadata": {
        "id": "df27a986",
        "colab": {
          "base_uri": "https://localhost:8080/"
        },
        "outputId": "0eeba966-4343-4902-f00a-b115f6b9c56e"
      },
      "outputs": [
        {
          "output_type": "stream",
          "name": "stdout",
          "text": [
            "Содержимое файла output.txt:\n",
            "farafarafa\n",
            "yyyyyy\n",
            "jjjjjj\n",
            "\n"
          ]
        }
      ],
      "source": [
        "try:\n",
        "    file = open(\"output.txt\", \"r\", encoding=\"utf-8\")\n",
        "    content = file.read()\n",
        "    print(\"Содержимое файла output.txt:\")\n",
        "    print(content)\n",
        "    file.close()\n",
        "except FileNotFoundError:\n",
        "    print(\"Ошибка: файл output.txt не найден!\")\n"
      ]
    },
    {
      "cell_type": "markdown",
      "id": "2be296a2",
      "metadata": {
        "id": "2be296a2"
      },
      "source": [
        "---"
      ]
    },
    {
      "cell_type": "markdown",
      "id": "045696ba",
      "metadata": {
        "id": "045696ba"
      },
      "source": [
        "### **Пункт №3. Подсчет строк в файле**"
      ]
    },
    {
      "cell_type": "markdown",
      "id": "570ac3e9",
      "metadata": {
        "id": "570ac3e9"
      },
      "source": [
        "Напишите программу, которая открывает файл output.txt и подсчитывает количество строк в нём.\n",
        "\n",
        "**ОБЯЗАТЕЛЬНО:**\n",
        "- Создайте тестовый файл с известным количеством строк (минимум 10)\n",
        "- Покажите первые 3 строки файла\n",
        "- Выведите общее количество строк\n",
        "- Выведите количество непустых строк"
      ]
    },
    {
      "cell_type": "code",
      "execution_count": null,
      "id": "84aa205a",
      "metadata": {
        "id": "84aa205a",
        "colab": {
          "base_uri": "https://localhost:8080/"
        },
        "outputId": "b40ed8ea-f628-4fa1-ae78-b86219b75b86"
      },
      "outputs": [
        {
          "output_type": "stream",
          "name": "stdout",
          "text": [
            "Ошибка: файл pepepe.txt не найден!\n"
          ]
        }
      ],
      "source": [
        "try:\n",
        "    file = open(\"pepepe.txt\", \"r\", encoding=\"utf-8\")\n",
        "    l = file.readlines()\n",
        "    file.close()\n",
        "    t = len(l)\n",
        "    n = 0\n",
        "    for line in l:\n",
        "        if line.strip():\n",
        "            n += 1\n",
        "    print(\"Первые 3 строки файла:\")\n",
        "    for i in range(min(3, t)):\n",
        "        print(f\"{i+1}: {l[i].strip()}\")\n",
        "    print(f\"\\nОбщее количество строк: {t}\")\n",
        "    print(f\"Количество непустых строк: {n}\")\n",
        "\n",
        "except FileNotFoundError:\n",
        "    print(\"Ошибка: файл pepepe.txt не найден!\")"
      ]
    },
    {
      "cell_type": "markdown",
      "id": "94c6dcb0",
      "metadata": {
        "id": "94c6dcb0"
      },
      "source": [
        "---"
      ]
    },
    {
      "cell_type": "markdown",
      "id": "56f2a74e",
      "metadata": {
        "id": "56f2a74e"
      },
      "source": [
        "### **Пункт №4. Копирование содержимого файла**"
      ]
    },
    {
      "cell_type": "markdown",
      "id": "ed736046",
      "metadata": {
        "id": "ed736046"
      },
      "source": [
        "Напишите программу, которая копирует содержимое файла input.txt в файл output.txt.\n",
        "\n",
        "**ОБЯЗАТЕЛЬНО:**\n",
        "- Создайте исходный файл с тестовым содержимым (минимум 5 строк)\n",
        "- Покажите содержимое исходного файла\n",
        "- Выполните копирование\n",
        "- Покажите содержимое скопированного файла\n",
        "- Обработайте случай отсутствия исходного файла"
      ]
    },
    {
      "cell_type": "code",
      "execution_count": null,
      "id": "31bd8a06",
      "metadata": {
        "id": "31bd8a06"
      },
      "outputs": [],
      "source": [
        "try:\n",
        "    file = open(\"input.txt\", \"r\", encoding=\"utf-8\")\n",
        "    c = file.read()\n",
        "    file.close()\n",
        "\n",
        "    print(\"Содержимое input.txt:\")\n",
        "    print(c)\n",
        "\n",
        "    file2 = open(\"output.txt\", \"w\", encoding=\"utf-8\")\n",
        "    file2.write(c)\n",
        "    file2.close()\n",
        "\n",
        "\n",
        "\n",
        "    file3 = open(\"output.txt\", \"r\", encoding=\"utf-8\")\n",
        "    print(\"Содержимое output.txt:\")\n",
        "    print(file3.read())\n",
        "    file3.close()\n",
        "\n",
        "except FileNotFoundError:\n",
        "    print(\"Файл input.txt не найден!\")\n"
      ]
    },
    {
      "cell_type": "markdown",
      "id": "2f7c8ee5",
      "metadata": {
        "id": "2f7c8ee5"
      },
      "source": [
        "---"
      ]
    },
    {
      "cell_type": "markdown",
      "id": "70ee398b",
      "metadata": {
        "id": "70ee398b"
      },
      "source": [
        "### **Пункт №5. Поиск слова в файле**"
      ]
    },
    {
      "cell_type": "markdown",
      "id": "c67f8987",
      "metadata": {
        "id": "c67f8987"
      },
      "source": [
        "Напишите программу, которая открывает файл output.txt и проверяет, содержится ли в нём слово, введённое пользователем.\n",
        "\n",
        "**ОБЯЗАТЕЛЬНО:**\n",
        "- Создайте файл с минимум 10 строками текста\n",
        "- Покажите содержимое файла\n",
        "- Протестируйте поиск минимум 5 различных слов\n",
        "- Выведите номера строк, где найдено слово\n",
        "- Покажите количество вхождений слова"
      ]
    },
    {
      "cell_type": "code",
      "execution_count": null,
      "id": "d961bbf3",
      "metadata": {
        "id": "d961bbf3",
        "colab": {
          "base_uri": "https://localhost:8080/"
        },
        "outputId": "c8aff383-9a28-469d-d859-1ff154bec5be"
      },
      "outputs": [
        {
          "metadata": {
            "tags": null
          },
          "name": "stdout",
          "output_type": "stream",
          "text": [
            "farafarafa\n",
            "yyyyyy\n",
            "jjjjjj\n",
            "\n",
            "Слово yyyyyy найдено в строках: [2]\n",
            "Количество вхождений: 1\n"
          ]
        }
      ],
      "source": [
        "\n",
        "file = open(\"output.txt\", \"r\", encoding=\"utf-8\")\n",
        "c = file.read()\n",
        "print(c)\n",
        "file.close()\n",
        "\n",
        "\n",
        "for i in range(5):\n",
        "    word = input(\"\\nВведите слово для поиска: \")\n",
        "\n",
        "    file = open(\"output.txt\", \"r\", encoding=\"utf-8\")\n",
        "    lines = file.readlines()\n",
        "    file.close()\n",
        "\n",
        "    found_lines = []\n",
        "    count = 0\n",
        "\n",
        "\n",
        "    for line_num, line in enumerate(lines, 1):\n",
        "        if word in line:\n",
        "            found_lines.append(line_num)\n",
        "            count += line.count(word)\n",
        "\n",
        "    if found_lines:\n",
        "        print(f\"Слово {word} найдено в строках: {found_lines}\")\n",
        "        print(f\"Количество вхождений: {count}\")\n",
        "    else:\n",
        "        print(f\"Слово '{word}' не найдено\")\n"
      ]
    },
    {
      "cell_type": "markdown",
      "id": "8d69c77a",
      "metadata": {
        "id": "8d69c77a"
      },
      "source": [
        "---"
      ]
    },
    {
      "cell_type": "markdown",
      "id": "0079e067",
      "metadata": {
        "id": "0079e067"
      },
      "source": [
        "### **Пункт №6. Чтение файла с обработкой FileNotFoundError**"
      ]
    },
    {
      "cell_type": "markdown",
      "id": "c3d27312",
      "metadata": {
        "id": "c3d27312"
      },
      "source": [
        "Напишите программу, которая запрашивает у пользователя имя файла и пытается открыть его. Если файла не существует, перехватите FileNotFoundError и выведите сообщение «Файл не найден!».\n",
        "\n",
        "**ОБЯЗАТЕЛЬНО:**\n",
        "- Протестируйте с существующим файлом\n",
        "- Протестируйте с несуществующим файлом\n",
        "- Покажите содержимое существующего файла"
      ]
    },
    {
      "cell_type": "code",
      "execution_count": 5,
      "id": "0c262bd2",
      "metadata": {
        "id": "0c262bd2",
        "colab": {
          "base_uri": "https://localhost:8080/"
        },
        "outputId": "af4127e6-87ba-478e-8caa-be484f9e497d"
      },
      "outputs": [
        {
          "output_type": "stream",
          "name": "stdout",
          "text": [
            "Введите имя файла: output.txt\n",
            "Содержимое файла:\n",
            "tralalela tralala\n",
            "tung tung sahur\n",
            "i'm dura\n",
            "bebebebebe\n",
            "tyuuioop\n",
            "iicJIDJC\n",
            "jcijid\n",
            "WCIjieijc\n",
            "WJIJCIJICJI\n",
            "J\n",
            "j\n",
            "j\n",
            "jj\n"
          ]
        }
      ],
      "source": [
        "f = input(\"Введите имя файла: \")\n",
        "\n",
        "try:\n",
        "\n",
        "    file = open(f, \"r\", encoding=\"utf-8\")\n",
        "    content = file.read()\n",
        "    file.close()\n",
        "\n",
        "\n",
        "    print(\"Содержимое файла:\")\n",
        "    print(content)\n",
        "\n",
        "except FileNotFoundError:\n",
        "    print(\"Файл не найден!\")\n"
      ]
    },
    {
      "cell_type": "markdown",
      "id": "c3258b46",
      "metadata": {
        "id": "c3258b46"
      },
      "source": [
        "---"
      ]
    },
    {
      "cell_type": "markdown",
      "id": "02e0767b",
      "metadata": {
        "id": "02e0767b"
      },
      "source": [
        "### **Пункт №7. Подсчет статистики файла**"
      ]
    },
    {
      "cell_type": "markdown",
      "id": "1c33b711",
      "metadata": {
        "id": "1c33b711"
      },
      "source": [
        "Напишите функцию `file_statistics(filename)`, которая читает текстовый файл и возвращает словарь со статистикой:\n",
        "- Количество строк\n",
        "- Количество слов\n",
        "- Количество символов (с пробелами и без)\n",
        "\n",
        "**ОБЯЗАТЕЛЬНО:**\n",
        "- Создайте тестовый файл с минимум 5 строками текста\n",
        "- Выведите содержимое файла ДО обработки\n",
        "- Выведите полученную статистику\n",
        "- Обработайте случай несуществующего файла\n",
        "\n",
        "```python\n",
        "# Создание тестового файла\n",
        "test_content = \"\"\"Первая строка текста\n",
        "Вторая строка с большим количеством слов\n",
        "Третья строка\n",
        "Четвертая строка для теста\n",
        "Пятая и последняя строка\"\"\"\n",
        "\n",
        "# Сохраните в файл и продемонстрируйте работу\n",
        "```"
      ]
    },
    {
      "cell_type": "code",
      "execution_count": 7,
      "id": "43bfd6b8",
      "metadata": {
        "id": "43bfd6b8",
        "colab": {
          "base_uri": "https://localhost:8080/"
        },
        "outputId": "81a016e4-0d9f-478f-d187-7be9ffc8d6a5"
      },
      "outputs": [
        {
          "output_type": "stream",
          "name": "stdout",
          "text": [
            "Содержимое файла:\n",
            "fffff\n",
            "jjfjjf fjfjjfjf jfjfjfjf jfjfjffjf jfjfjfjfjff  jfjfjfjf\n",
            "Третья строка\n",
            "Четвертая строка\n",
            "Пятая строка\n",
            "\n",
            "Статистика:\n",
            "{'строк': 5, 'слов': 13, 'символов с пробелами': 106, 'символов без пробелов': 97}\n",
            "\n",
            "Проверка ошибки:\n",
            "Файл не найден!\n"
          ]
        }
      ],
      "source": [
        "def file_statistics(filename):\n",
        "    try:\n",
        "        file = open(filename, \"r\", encoding=\"utf-8\")\n",
        "        text = file.read()\n",
        "        file.close()\n",
        "\n",
        "        lines = text.split(\"\\n\")\n",
        "        words = text.split()\n",
        "\n",
        "        stats = {\n",
        "            \"строк\": len(lines),\n",
        "            \"слов\": len(words),\n",
        "            \"символов с пробелами\": len(text),\n",
        "            \"символов без пробелов\": len(text.replace(\" \", \"\"))\n",
        "        }\n",
        "\n",
        "        return stats\n",
        "\n",
        "    except FileNotFoundError:\n",
        "        return \"Файл не найден!\"\n",
        "\n",
        "\n",
        "text = \"\"\"fffff\n",
        "jjfjjf fjfjjfjf jfjfjfjf jfjfjffjf jfjfjfjfjff  jfjfjfjf\n",
        "Третья строка\n",
        "Четвертая строка\n",
        "Пятая строка\"\"\"\n",
        "\n",
        "file = open(\"test.txt\", \"w\", encoding=\"utf-8\")\n",
        "file.write(text)\n",
        "file.close()\n",
        "\n",
        "\n",
        "print(\"Содержимое файла:\")\n",
        "file = open(\"test.txt\", \"r\", encoding=\"utf-8\")\n",
        "print(file.read())\n",
        "file.close()\n",
        "\n",
        "\n",
        "print(\"\\nСтатистика:\")\n",
        "result = file_statistics(\"test.txt\")\n",
        "print(result)\n",
        "\n",
        "\n",
        "print(\"\\nПроверка ошибки:\")\n",
        "result2 = file_statistics(\"нет.txt\")\n",
        "print(result2)\n",
        "\n"
      ]
    },
    {
      "cell_type": "markdown",
      "id": "903281dd",
      "metadata": {
        "id": "903281dd"
      },
      "source": [
        "---"
      ]
    },
    {
      "cell_type": "markdown",
      "id": "ad8b4ae4",
      "metadata": {
        "id": "ad8b4ae4"
      },
      "source": [
        "### **Пункт №8. Поиск и замена в файле**"
      ]
    },
    {
      "cell_type": "markdown",
      "id": "e5230d0a",
      "metadata": {
        "id": "e5230d0a"
      },
      "source": [
        "Напишите функцию `replace_in_file(filename, old_text, new_text)`, которая заменяет все вхождения `old_text` на `new_text` в файле и сохраняет результат в новый файл с префиксом \"modified_\".\n",
        "\n",
        "**ОБЯЗАТЕЛЬНО:**\n",
        "- Создайте файл с текстом, содержащим минимум 3 вхождения заменяемого слова\n",
        "- Выведите содержимое файла ДО замены\n",
        "- Выполните замену\n",
        "- Выведите содержимое файла ПОСЛЕ замены\n",
        "- Покажите количество произведенных замен"
      ]
    },
    {
      "cell_type": "code",
      "execution_count": 4,
      "id": "64a05e35",
      "metadata": {
        "id": "64a05e35",
        "colab": {
          "base_uri": "https://localhost:8080/"
        },
        "outputId": "f72aee0c-fce3-4124-9f7d-55688e28cb00"
      },
      "outputs": [
        {
          "output_type": "stream",
          "name": "stdout",
          "text": [
            "Файл ДО замены:\n",
            "asdf qwer asdf zxcv. asdf poiuy lkjh. mnbvc xzasdf qwe. asdf ghjk tyui.\n",
            "\n",
            "Файл ПОСЛЕ замены:\n",
            "zxcv qwer zxcv zxcv. zxcv poiuy lkjh. mnbvc xzzxcv qwe. zxcv ghjk tyui.\n",
            "\n",
            "Количество замен: 5\n"
          ]
        }
      ],
      "source": [
        "\n",
        "def replace_in_file(filename, old_text, new_text):\n",
        "\n",
        "    file = open(filename, 'r')\n",
        "    content = file.read()\n",
        "    file.close()\n",
        "\n",
        "\n",
        "    count = 0\n",
        "    position = content.find(old_text)\n",
        "    while position != -1:\n",
        "        count += 1\n",
        "        position = content.find(old_text, position + 1)\n",
        "\n",
        "\n",
        "    new_content = content.replace(old_text, new_text)\n",
        "\n",
        "\n",
        "    new_filename = \"modified_\" + filename\n",
        "    new_file = open(new_filename, 'w')\n",
        "    new_file.write(new_content)\n",
        "    new_file.close()\n",
        "\n",
        "    return count, new_content\n",
        "\n",
        "\n",
        "original_file = open('test.txt', 'w')\n",
        "original_file.write(\"asdf qwer asdf zxcv. asdf poiuy lkjh. mnbvc xzasdf qwe. asdf ghjk tyui.\")\n",
        "original_file.close()\n",
        "\n",
        "\n",
        "print(\"Файл ДО замены:\")\n",
        "file_before = open('test.txt', 'r')\n",
        "content_before = file_before.read()\n",
        "file_before.close()\n",
        "print(content_before)\n",
        "print()\n",
        "\n",
        "\n",
        "old_word = \"asdf\"\n",
        "new_word = \"zxcv\"\n",
        "replace_count, content_after = replace_in_file('test.txt', old_word, new_word)\n",
        "\n",
        "\n",
        "print(\"Файл ПОСЛЕ замены:\")\n",
        "print(content_after)\n",
        "print()\n",
        "\n",
        "\n",
        "print(\"Количество замен:\", replace_count)\n",
        "\n"
      ]
    },
    {
      "cell_type": "markdown",
      "id": "f77b0568",
      "metadata": {
        "id": "f77b0568"
      },
      "source": [
        "---"
      ]
    },
    {
      "cell_type": "markdown",
      "id": "79a081b1",
      "metadata": {
        "id": "79a081b1"
      },
      "source": [
        "### **Пункт №9. Объединение файлов**"
      ]
    },
    {
      "cell_type": "markdown",
      "id": "599cee3c",
      "metadata": {
        "id": "599cee3c"
      },
      "source": [
        "Создайте функцию `merge_files(file_list, output_file)`, которая объединяет содержимое нескольких текстовых файлов в один, добавляя после каждого разделитель.\n",
        "\n",
        "**ОБЯЗАТЕЛЬНО:**\n",
        "- Создайте минимум 3 файла с разным содержимым\n",
        "- Выведите содержимое КАЖДОГО исходного файла\n",
        "- Выполните объединение\n",
        "- Выведите содержимое результирующего файла"
      ]
    },
    {
      "cell_type": "code",
      "execution_count": 2,
      "id": "581b5868",
      "metadata": {
        "id": "581b5868",
        "colab": {
          "base_uri": "https://localhost:8080/"
        },
        "outputId": "f38869aa-e68b-4aaf-e4be-321145bfd220"
      },
      "outputs": [
        {
          "output_type": "stream",
          "name": "stdout",
          "text": [
            "ofofksvmkmfkv n vn nv nv\n",
            "vkmkqerkkeor\n",
            "qokerkgkimkrmg\n",
            "---\n",
            "tralalela tralala\n",
            "tung tung sahur\n",
            "i'm dura\n",
            "bebebebebe\n",
            "tyuuioop\n",
            "iicJIDJC\n",
            "jcijid\n",
            "WCIjieijc\n",
            "WJIJCIJICJI\n",
            "J\n",
            "j\n",
            "j\n",
            "jj\n",
            "---\n",
            "hhdhdhdhhd\n",
            "hdhdhdhhdhd\n",
            "teteett\n",
            "etetettetetet\n",
            "tetettetetette\n",
            "ettettetetteteakkak\n",
            "kksksksks'\n",
            "lslsslss'\n",
            "isiisisisi'\n",
            "rarararraraa\n",
            "\n"
          ]
        }
      ],
      "source": [
        "\n",
        "file1 = open('input.txt', 'w')\n",
        "file1.write(\"ofofksvmkmfkv n vn nv nv\\nvkmkqerkkeor\\nqokerkgkimkrmg\")\n",
        "file1.close()\n",
        "\n",
        "file2 = open('output.txt', 'w')\n",
        "file2.write(\"tralalela tralala\\ntung tung sahur\\ni'm dura\\nbebebebebe\\ntyuuioop\\niicJIDJC\\njcijid\\nWCIjieijc\\nWJIJCIJICJI\\nJ\\nj\\nj\\njj\")\n",
        "file2.close()\n",
        "\n",
        "file3 = open('pepepe.txt', 'w')\n",
        "file3.write(\"hhdhdhdhhd\\nhdhdhdhhdhd\\nteteett\\netetettetetet\\ntetettetetette\\nettettetetteteakkak\\nkksksksks'\\nlslsslss'\\nisiisisisi'\\nrarararraraa\")\n",
        "file3.close()\n",
        "\n",
        "\n",
        "result_file = open('merged_result.txt', 'w')\n",
        "\n",
        "files = ['input.txt', 'output.txt', 'pepepe.txt']\n",
        "\n",
        "for i in range(len(files)):\n",
        "    current_file = open(files[i], 'r')\n",
        "    content = current_file.read()\n",
        "    current_file.close()\n",
        "\n",
        "    lines = content.split('\\n')\n",
        "\n",
        "    for line in lines:\n",
        "        result_file.write(line + '\\n')\n",
        "\n",
        "    if i < len(files) - 1:\n",
        "        result_file.write(\"---\\n\")\n",
        "\n",
        "result_file.close()\n",
        "f = open('merged_result.txt', 'r')\n",
        "result_text = f.read()\n",
        "f.close()\n",
        "print(result_text)"
      ]
    },
    {
      "cell_type": "markdown",
      "id": "eb866091",
      "metadata": {
        "id": "eb866091"
      },
      "source": [
        "---"
      ]
    }
  ],
  "metadata": {
    "colab": {
      "provenance": [],
      "include_colab_link": true
    },
    "language_info": {
      "name": "python"
    },
    "kernelspec": {
      "name": "python3",
      "display_name": "Python 3"
    }
  },
  "nbformat": 4,
  "nbformat_minor": 5
}